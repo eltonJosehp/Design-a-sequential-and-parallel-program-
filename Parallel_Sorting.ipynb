{
  "nbformat": 4,
  "nbformat_minor": 0,
  "metadata": {
    "colab": {
      "provenance": [],
      "authorship_tag": "ABX9TyPxPWHgzflEWSbKZMH6VwtV",
      "include_colab_link": true
    },
    "kernelspec": {
      "name": "python3",
      "display_name": "Python 3"
    },
    "language_info": {
      "name": "python"
    }
  },
  "cells": [
    {
      "cell_type": "markdown",
      "metadata": {
        "id": "view-in-github",
        "colab_type": "text"
      },
      "source": [
        "<a href=\"https://colab.research.google.com/github/eltonJosehp/Design-a-sequential-and-parallel-program-/blob/main/Parallel_Sorting.ipynb\" target=\"_parent\"><img src=\"https://colab.research.google.com/assets/colab-badge.svg\" alt=\"Open In Colab\"/></a>"
      ]
    },
    {
      "cell_type": "code",
      "execution_count": 3,
      "metadata": {
        "colab": {
          "base_uri": "https://localhost:8080/"
        },
        "id": "XAklAvaebvKM",
        "outputId": "466f54c3-f886-4383-9818-55162af32f5a"
      },
      "outputs": [
        {
          "output_type": "stream",
          "name": "stdout",
          "text": [
            "[('corazones', '2'), ('corazones', '2'), ('corazones', '2'), ('corazones', '2'), ('corazones', '2'), ('corazones', '2'), ('corazones', '2'), ('corazones', '2'), ('corazones', '2'), ('corazones', '2')]\n"
          ]
        }
      ],
      "source": [
        "import random\n",
        "import multiprocessing\n",
        "\n",
        "# Define the suits and values\n",
        "palos = ['corazones', 'tréboles', 'picas', 'diamantes', 'comodín']\n",
        "valores = [str(i) for i in range(2, 11)] + ['J', 'Q', 'K', 'A']\n",
        "\n",
        "# Function to generate a deck of cards\n",
        "def generar_cartas(n):\n",
        "    cartas = []\n",
        "    for _ in range(n):\n",
        "        palo = random.choice(palos)\n",
        "        if palo == 'comodín':\n",
        "            carta = ('comodín', 0)  # Jokers are represented with a value of 0\n",
        "        else:\n",
        "            valor = random.choice(valores)\n",
        "            carta = (palo, valor)\n",
        "        cartas.append(carta)\n",
        "    return cartas\n",
        "\n",
        "# Comparison function to sort the cards\n",
        "def comparar(carta):\n",
        "    orden_palos = {'corazones': 0, 'tréboles': 1, 'picas': 2, 'diamantes': 3, 'comodín': 4}\n",
        "    orden_valores = {str(i): i for i in range(2, 11)}\n",
        "    orden_valores.update({'J': 11, 'Q': 12, 'K': 13, 'A': 14})\n",
        "\n",
        "    palo, valor = carta\n",
        "    if palo == 'comodín':  # Jokers always have a fixed value\n",
        "        return (orden_palos[palo], 0)  # Value 0 is for jokers\n",
        "    return (orden_palos[palo], orden_valores[str(valor)])  # Normalize value to string for number cards\n",
        "\n",
        "# Function to divide and sort the cards in parallel\n",
        "def ordenar_parcial(cartas):\n",
        "    return sorted(cartas, key=comparar)\n",
        "\n",
        "def ordenar_en_paralelo(cartas, num_procesos):\n",
        "    # Divide the cards into chunks for parallel processing\n",
        "    chunk_size = len(cartas) // num_procesos\n",
        "    chunks = [cartas[i:i + chunk_size] for i in range(0, len(cartas), chunk_size)]\n",
        "\n",
        "    # Create a pool of processes\n",
        "    with multiprocessing.Pool(processes=num_procesos) as pool:\n",
        "        resultados = pool.map(ordenar_parcial, chunks)\n",
        "\n",
        "    # Combine the results and sort them\n",
        "    cartas_ordenadas = [carta for sublist in resultados for carta in sublist]\n",
        "    return sorted(cartas_ordenadas, key=comparar)\n",
        "\n",
        "# Generate 4 million cards\n",
        "cartas = generar_cartas(4000000)\n",
        "\n",
        "# Sort the cards in parallel with 4 processes\n",
        "cartas_ordenadas = ordenar_en_paralelo(cartas, 4)\n",
        "\n",
        "# Display the first 10 sorted cards\n",
        "print(cartas_ordenadas[:10])\n"
      ]
    }
  ]
}