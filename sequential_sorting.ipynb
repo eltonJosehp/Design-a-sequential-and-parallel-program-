{
  "nbformat": 4,
  "nbformat_minor": 0,
  "metadata": {
    "colab": {
      "provenance": [],
      "authorship_tag": "ABX9TyNjkCPXNgHGpgXhwtWFECjk",
      "include_colab_link": true
    },
    "kernelspec": {
      "name": "python3",
      "display_name": "Python 3"
    },
    "language_info": {
      "name": "python"
    }
  },
  "cells": [
    {
      "cell_type": "markdown",
      "metadata": {
        "id": "view-in-github",
        "colab_type": "text"
      },
      "source": [
        "<a href=\"https://colab.research.google.com/github/eltonJosehp/Design-a-sequential-and-parallel-program-/blob/main/sequential_sorting.ipynb\" target=\"_parent\"><img src=\"https://colab.research.google.com/assets/colab-badge.svg\" alt=\"Open In Colab\"/></a>"
      ]
    },
    {
      "cell_type": "code",
      "execution_count": 6,
      "metadata": {
        "colab": {
          "base_uri": "https://localhost:8080/"
        },
        "id": "u9R0EFxsY1Fp",
        "outputId": "46438c1e-bbb4-4775-d33b-d6eaa038086e"
      },
      "outputs": [
        {
          "output_type": "stream",
          "name": "stdout",
          "text": [
            "[('corazones', '2'), ('corazones', '2'), ('corazones', '2'), ('corazones', '2'), ('corazones', '2'), ('corazones', '2'), ('corazones', '2'), ('corazones', '2'), ('corazones', '2'), ('corazones', '2')]\n"
          ]
        }
      ],
      "source": [
        "import random\n",
        "\n",
        "# Definir los valores y palos\n",
        "palos = ['corazones', 'tréboles', 'picas', 'diamantes', 'comodín']\n",
        "valores = [str(i) for i in range(2, 11)] + ['J', 'Q', 'K', 'A']\n",
        "\n",
        "# Función para generar un mazo de cartas\n",
        "def generar_cartas(n):\n",
        "    cartas = []\n",
        "    for _ in range(n):\n",
        "        palo = random.choice(palos)\n",
        "        if palo == 'comodín':\n",
        "            carta = ('comodín', 0)  # Los comodines se representan con un valor de 0\n",
        "        else:\n",
        "            valor = random.choice(valores)\n",
        "            carta = (palo, valor)\n",
        "        cartas.append(carta)\n",
        "    return cartas\n",
        "\n",
        "# Función de comparación para ordenar las cartas\n",
        "def comparar(carta):\n",
        "    orden_palos = {'corazones': 0, 'tréboles': 1, 'picas': 2, 'diamantes': 3, 'comodín': 4}\n",
        "    orden_valores = {str(i): i for i in range(2, 11)}\n",
        "    orden_valores.update({'J': 11, 'Q': 12, 'K': 13, 'A': 14})\n",
        "\n",
        "    palo, valor = carta\n",
        "    if palo == 'comodín':  # Los comodines siempre tienen un valor fijo\n",
        "        return (orden_palos[palo], 0)  # El valor 0 es para los comodines\n",
        "    return (orden_palos[palo], orden_valores[str(valor)])  # Normalizar el valor a string para cartas numéricas\n",
        "\n",
        "# Generar 4 millones de cartas\n",
        "cartas = generar_cartas(4000000)\n",
        "\n",
        "# Ordenar las cartas\n",
        "cartas_ordenadas = sorted(cartas, key=comparar)\n",
        "\n",
        "# Mostrar las primeras 10 cartas ordenadas\n",
        "print(cartas_ordenadas[:10])\n",
        "\n"
      ]
    }
  ]
}